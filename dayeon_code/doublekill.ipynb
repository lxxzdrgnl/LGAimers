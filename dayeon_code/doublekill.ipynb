{
 "cells": [
  {
   "cell_type": "code",
   "execution_count": 77,
   "id": "c7986375-a06b-437d-8264-4035c60f983e",
   "metadata": {},
   "outputs": [
    {
     "name": "stdout",
     "output_type": "stream",
     "text": [
      "임신 시도 또는 마지막 임신 경과 연수    246981\n",
      "특정 시술 유형                      2\n",
      "단일 배아 이식 여부                6291\n",
      "착상 전 유전 검사 사용 여부         253633\n",
      "착상 전 유전 진단 사용 여부           6291\n",
      "배아 생성 주요 이유                6291\n",
      "총 생성 배아 수                  6291\n",
      "미세주입된 난자 수                 6291\n",
      "미세주입에서 생성된 배아 수            6291\n",
      "이식된 배아 수                   6291\n",
      "미세주입 배아 이식 수               6291\n",
      "저장된 배아 수                   6291\n",
      "미세주입 후 저장된 배아 수            6291\n",
      "해동된 배아 수                   6291\n",
      "해동 난자 수                    6291\n",
      "수집된 신선 난자 수                6291\n",
      "저장된 신선 난자 수                6291\n",
      "혼합된 난자 수                   6291\n",
      "파트너 정자와 혼합된 난자 수           6291\n",
      "기증자 정자와 혼합된 난자 수           6291\n",
      "동결 배아 사용 여부                6291\n",
      "신선 배아 사용 여부                6291\n",
      "기증 배아 사용 여부                6291\n",
      "대리모 여부                     6291\n",
      "PGD 시술 여부                254172\n",
      "PGS 시술 여부                254422\n",
      "난자 채취 경과일                 57488\n",
      "난자 해동 경과일                254915\n",
      "난자 혼합 경과일                 53735\n",
      "배아 이식 경과일                 43566\n",
      "배아 해동 경과일                215982\n",
      "dtype: int64\n"
     ]
    }
   ],
   "source": [
    "import pandas as pd\n",
    "\n",
    "# 📌 파일 경로 설정\n",
    "train_path = \"/Users/yudayeon/Desktop/캡스톤_결과/open/train.csv\"\n",
    "\n",
    "# 데이터 로드\n",
    "df = pd.read_csv(train_path)\n",
    "\n",
    "# 각 변수별 결측값 개수 출력\n",
    "missing_values = df.isnull().sum()\n",
    "\n",
    "# 결측값이 있는 변수만 출력\n",
    "print(missing_values[missing_values > 0])"
   ]
  },
  {
   "cell_type": "code",
   "execution_count": 79,
   "id": "2fb7ba7f-07f6-4aa8-8733-d82c5a7c2cf6",
   "metadata": {},
   "outputs": [
    {
     "name": "stdout",
     "output_type": "stream",
     "text": [
      "0\n"
     ]
    }
   ],
   "source": [
    "# 특정 시술 유형이 NaN인 행 삭제\n",
    "df = df.dropna(subset=[\"특정 시술 유형\"])\n",
    "\n",
    "# 결과 확인 (특정 시술 유형이 NaN인 행이 없는지 체크)\n",
    "print(df[\"특정 시술 유형\"].isnull().sum())  # 결과가 0이면 정상적으로 삭제됨"
   ]
  },
  {
   "cell_type": "code",
   "execution_count": 41,
   "id": "5a13d1eb-f316-4854-aded-e9d8c4fb2ac8",
   "metadata": {},
   "outputs": [
    {
     "name": "stdout",
     "output_type": "stream",
     "text": [
      "임신 시도 또는 마지막 임신 경과 연수    246979\n",
      "단일 배아 이식 여부                6291\n",
      "착상 전 유전 검사 사용 여부         253631\n",
      "착상 전 유전 진단 사용 여부           6291\n",
      "배아 생성 주요 이유                6291\n",
      "총 생성 배아 수                  6291\n",
      "미세주입된 난자 수                 6291\n",
      "미세주입에서 생성된 배아 수            6291\n",
      "이식된 배아 수                   6291\n",
      "미세주입 배아 이식 수               6291\n",
      "저장된 배아 수                   6291\n",
      "미세주입 후 저장된 배아 수            6291\n",
      "해동된 배아 수                   6291\n",
      "해동 난자 수                    6291\n",
      "수집된 신선 난자 수                6291\n",
      "저장된 신선 난자 수                6291\n",
      "혼합된 난자 수                   6291\n",
      "파트너 정자와 혼합된 난자 수           6291\n",
      "기증자 정자와 혼합된 난자 수           6291\n",
      "동결 배아 사용 여부                6291\n",
      "신선 배아 사용 여부                6291\n",
      "기증 배아 사용 여부                6291\n",
      "대리모 여부                     6291\n",
      "PGD 시술 여부                254170\n",
      "PGS 시술 여부                254420\n",
      "난자 채취 경과일                 57488\n",
      "난자 해동 경과일                254913\n",
      "난자 혼합 경과일                 53735\n",
      "배아 이식 경과일                 43564\n",
      "배아 해동 경과일                215980\n",
      "dtype: int64\n"
     ]
    }
   ],
   "source": [
    "\n",
    "# 각 변수별 결측값 개수 출력\n",
    "missing_values = df.isnull().sum()\n",
    "\n",
    "# 결측값이 있는 변수만 출력\n",
    "print(missing_values[missing_values > 0])"
   ]
  },
  {
   "cell_type": "code",
   "execution_count": 83,
   "id": "b507b7cd-af9b-41a0-88c9-30274a227e04",
   "metadata": {},
   "outputs": [
    {
     "ename": "TypeError",
     "evalue": "Encoders require their input argument must be uniformly strings or numbers. Got ['int', 'str']",
     "output_type": "error",
     "traceback": [
      "\u001b[0;31m---------------------------------------------------------------------------\u001b[0m",
      "\u001b[0;31mTypeError\u001b[0m                                 Traceback (most recent call last)",
      "File \u001b[0;32m/opt/anaconda3/lib/python3.12/site-packages/sklearn/utils/_encode.py:174\u001b[0m, in \u001b[0;36m_unique_python\u001b[0;34m(values, return_inverse, return_counts)\u001b[0m\n\u001b[1;32m    172\u001b[0m uniques_set, missing_values \u001b[38;5;241m=\u001b[39m _extract_missing(uniques_set)\n\u001b[0;32m--> 174\u001b[0m uniques \u001b[38;5;241m=\u001b[39m \u001b[38;5;28msorted\u001b[39m(uniques_set)\n\u001b[1;32m    175\u001b[0m uniques\u001b[38;5;241m.\u001b[39mextend(missing_values\u001b[38;5;241m.\u001b[39mto_list())\n",
      "\u001b[0;31mTypeError\u001b[0m: '<' not supported between instances of 'int' and 'str'",
      "\nDuring handling of the above exception, another exception occurred:\n",
      "\u001b[0;31mTypeError\u001b[0m                                 Traceback (most recent call last)",
      "Cell \u001b[0;32mIn[83], line 66\u001b[0m\n\u001b[1;32m     64\u001b[0m \u001b[38;5;66;03m# \"난자 기증자 나이\"에서 \"알 수 없음\"을 -1로 처리\u001b[39;00m\n\u001b[1;32m     65\u001b[0m df[\u001b[38;5;124m\"\u001b[39m\u001b[38;5;124m난자 기증자 나이\u001b[39m\u001b[38;5;124m\"\u001b[39m] \u001b[38;5;241m=\u001b[39m df[\u001b[38;5;124m\"\u001b[39m\u001b[38;5;124m난자 기증자 나이\u001b[39m\u001b[38;5;124m\"\u001b[39m]\u001b[38;5;241m.\u001b[39mreplace(\u001b[38;5;124m\"\u001b[39m\u001b[38;5;124m알 수 없음\u001b[39m\u001b[38;5;124m\"\u001b[39m, \u001b[38;5;241m-\u001b[39m\u001b[38;5;241m1\u001b[39m)\n\u001b[0;32m---> 66\u001b[0m df[\u001b[38;5;124m\"\u001b[39m\u001b[38;5;124m난자 기증자 나이\u001b[39m\u001b[38;5;124m\"\u001b[39m] \u001b[38;5;241m=\u001b[39m le\u001b[38;5;241m.\u001b[39mfit_transform(df[\u001b[38;5;124m\"\u001b[39m\u001b[38;5;124m난자 기증자 나이\u001b[39m\u001b[38;5;124m\"\u001b[39m])\n\u001b[1;32m     68\u001b[0m \u001b[38;5;66;03m# \"정자 기증자 나이\"에서 \"알 수 없음\"을 -1로 처리\u001b[39;00m\n\u001b[1;32m     69\u001b[0m df[\u001b[38;5;124m\"\u001b[39m\u001b[38;5;124m정자 기증자 나이\u001b[39m\u001b[38;5;124m\"\u001b[39m] \u001b[38;5;241m=\u001b[39m df[\u001b[38;5;124m\"\u001b[39m\u001b[38;5;124m정자 기증자 나이\u001b[39m\u001b[38;5;124m\"\u001b[39m]\u001b[38;5;241m.\u001b[39mreplace(\u001b[38;5;124m\"\u001b[39m\u001b[38;5;124m알 수 없음\u001b[39m\u001b[38;5;124m\"\u001b[39m, \u001b[38;5;241m-\u001b[39m\u001b[38;5;241m1\u001b[39m)\n",
      "File \u001b[0;32m/opt/anaconda3/lib/python3.12/site-packages/sklearn/preprocessing/_label.py:115\u001b[0m, in \u001b[0;36mLabelEncoder.fit_transform\u001b[0;34m(self, y)\u001b[0m\n\u001b[1;32m    102\u001b[0m \u001b[38;5;250m\u001b[39m\u001b[38;5;124;03m\"\"\"Fit label encoder and return encoded labels.\u001b[39;00m\n\u001b[1;32m    103\u001b[0m \n\u001b[1;32m    104\u001b[0m \u001b[38;5;124;03mParameters\u001b[39;00m\n\u001b[0;32m   (...)\u001b[0m\n\u001b[1;32m    112\u001b[0m \u001b[38;5;124;03m    Encoded labels.\u001b[39;00m\n\u001b[1;32m    113\u001b[0m \u001b[38;5;124;03m\"\"\"\u001b[39;00m\n\u001b[1;32m    114\u001b[0m y \u001b[38;5;241m=\u001b[39m column_or_1d(y, warn\u001b[38;5;241m=\u001b[39m\u001b[38;5;28;01mTrue\u001b[39;00m)\n\u001b[0;32m--> 115\u001b[0m \u001b[38;5;28mself\u001b[39m\u001b[38;5;241m.\u001b[39mclasses_, y \u001b[38;5;241m=\u001b[39m _unique(y, return_inverse\u001b[38;5;241m=\u001b[39m\u001b[38;5;28;01mTrue\u001b[39;00m)\n\u001b[1;32m    116\u001b[0m \u001b[38;5;28;01mreturn\u001b[39;00m y\n",
      "File \u001b[0;32m/opt/anaconda3/lib/python3.12/site-packages/sklearn/utils/_encode.py:42\u001b[0m, in \u001b[0;36m_unique\u001b[0;34m(values, return_inverse, return_counts)\u001b[0m\n\u001b[1;32m     11\u001b[0m \u001b[38;5;250m\u001b[39m\u001b[38;5;124;03m\"\"\"Helper function to find unique values with support for python objects.\u001b[39;00m\n\u001b[1;32m     12\u001b[0m \n\u001b[1;32m     13\u001b[0m \u001b[38;5;124;03mUses pure python method for object dtype, and numpy method for\u001b[39;00m\n\u001b[0;32m   (...)\u001b[0m\n\u001b[1;32m     39\u001b[0m \u001b[38;5;124;03m    array. Only provided if `return_counts` is True.\u001b[39;00m\n\u001b[1;32m     40\u001b[0m \u001b[38;5;124;03m\"\"\"\u001b[39;00m\n\u001b[1;32m     41\u001b[0m \u001b[38;5;28;01mif\u001b[39;00m values\u001b[38;5;241m.\u001b[39mdtype \u001b[38;5;241m==\u001b[39m \u001b[38;5;28mobject\u001b[39m:\n\u001b[0;32m---> 42\u001b[0m     \u001b[38;5;28;01mreturn\u001b[39;00m _unique_python(\n\u001b[1;32m     43\u001b[0m         values, return_inverse\u001b[38;5;241m=\u001b[39mreturn_inverse, return_counts\u001b[38;5;241m=\u001b[39mreturn_counts\n\u001b[1;32m     44\u001b[0m     )\n\u001b[1;32m     45\u001b[0m \u001b[38;5;66;03m# numerical\u001b[39;00m\n\u001b[1;32m     46\u001b[0m \u001b[38;5;28;01mreturn\u001b[39;00m _unique_np(\n\u001b[1;32m     47\u001b[0m     values, return_inverse\u001b[38;5;241m=\u001b[39mreturn_inverse, return_counts\u001b[38;5;241m=\u001b[39mreturn_counts\n\u001b[1;32m     48\u001b[0m )\n",
      "File \u001b[0;32m/opt/anaconda3/lib/python3.12/site-packages/sklearn/utils/_encode.py:179\u001b[0m, in \u001b[0;36m_unique_python\u001b[0;34m(values, return_inverse, return_counts)\u001b[0m\n\u001b[1;32m    177\u001b[0m \u001b[38;5;28;01mexcept\u001b[39;00m \u001b[38;5;167;01mTypeError\u001b[39;00m:\n\u001b[1;32m    178\u001b[0m     types \u001b[38;5;241m=\u001b[39m \u001b[38;5;28msorted\u001b[39m(t\u001b[38;5;241m.\u001b[39m\u001b[38;5;18m__qualname__\u001b[39m \u001b[38;5;28;01mfor\u001b[39;00m t \u001b[38;5;129;01min\u001b[39;00m \u001b[38;5;28mset\u001b[39m(\u001b[38;5;28mtype\u001b[39m(v) \u001b[38;5;28;01mfor\u001b[39;00m v \u001b[38;5;129;01min\u001b[39;00m values))\n\u001b[0;32m--> 179\u001b[0m     \u001b[38;5;28;01mraise\u001b[39;00m \u001b[38;5;167;01mTypeError\u001b[39;00m(\n\u001b[1;32m    180\u001b[0m         \u001b[38;5;124m\"\u001b[39m\u001b[38;5;124mEncoders require their input argument must be uniformly \u001b[39m\u001b[38;5;124m\"\u001b[39m\n\u001b[1;32m    181\u001b[0m         \u001b[38;5;124mf\u001b[39m\u001b[38;5;124m\"\u001b[39m\u001b[38;5;124mstrings or numbers. Got \u001b[39m\u001b[38;5;132;01m{\u001b[39;00mtypes\u001b[38;5;132;01m}\u001b[39;00m\u001b[38;5;124m\"\u001b[39m\n\u001b[1;32m    182\u001b[0m     )\n\u001b[1;32m    183\u001b[0m ret \u001b[38;5;241m=\u001b[39m (uniques,)\n\u001b[1;32m    185\u001b[0m \u001b[38;5;28;01mif\u001b[39;00m return_inverse:\n",
      "\u001b[0;31mTypeError\u001b[0m: Encoders require their input argument must be uniformly strings or numbers. Got ['int', 'str']"
     ]
    }
   ],
   "source": [
    "import pandas as pd\n",
    "from sklearn.preprocessing import LabelEncoder\n",
    "#####수정 필요\n",
    "\n",
    "# 데이터 로드\n",
    "train_path = \"/Users/yudayeon/Desktop/캡스톤_결과/open/train.csv\"\n",
    "df = pd.read_csv(train_path)\n",
    "\n",
    "# Label Encoding 객체 생성\n",
    "le_surgery_code = LabelEncoder()\n",
    "le_age_group = LabelEncoder()\n",
    "le = LabelEncoder()\n",
    "# \"시술 시기 코드\" 변환\n",
    "df[\"시술 시기 코드\"] = le_surgery_code.fit_transform(df[\"시술 시기 코드\"])\n",
    "\n",
    "# \"시술 당시 나이 연령대\" 변환 (자동 Label Encoding)\n",
    "df[\"시술 당시 나이\"] = le_age_group.fit_transform(df[\"시술 당시 나이\"])\n",
    "\n",
    "# \"배란 유도 유형\"에서 \"알 수 없음\"을 -1로 처리\n",
    "df[\"배란 유도 유형\"] = df[\"배란 유도 유형\"].replace(\"알 수 없음\", -1)\n",
    "\n",
    "# 모든 값을 문자열로 변환 후 레이블 인코딩\n",
    "df[\"배란 유도 유형\"] = df[\"배란 유도 유형\"].astype(str)\n",
    "df[\"배란 유도 유형\"] = le.fit_transform(df[\"배란 유도 유형\"])\n",
    "\n",
    "# \"시술 유형\" 변환\n",
    "df[\"시술 유형\"] = le.fit_transform(df[\"시술 유형\"])\n",
    "\n",
    "# 배아 생성 주요 이유에서 \"알 수 없음\"을 -1로 변환\n",
    "df[\"배아 생성 주요 이유\"] = df[\"배아 생성 주요 이유\"].replace(\"알 수 없음\", -1)\n",
    "\n",
    "# \"배아 생성 주요 이유\"에서 /로 구분된 항목들을 리스트로 나누기\n",
    "df[\"배아 생성 주요 이유\"] = df[\"배아 생성 주요 이유\"].apply(lambda x: str(x).split('/') if isinstance(x, str) else [])\n",
    "\n",
    "# 레이블 인코딩을 위한 객체 생성\n",
    "le = LabelEncoder()\n",
    "\n",
    "# 각 항목에 대해 새로운 컬럼 생성 후 레이블 인코딩 처리\n",
    "# 이 부분은 나눈 항목들이 새로운 컬럼에 들어가도록 처리\n",
    "for idx, reason_list in enumerate(df[\"배아 생성 주요 이유\"]):\n",
    "    for reason in reason_list:\n",
    "        # 새로운 컬럼 생성하고, 그 컬럼에 대해 레이블 인코딩\n",
    "        col_name = f\"배아 생성 주요 이유_{reason.strip()}\"\n",
    "        if col_name not in df.columns:\n",
    "            df[col_name] = df[\"배아 생성 주요 이유\"].apply(lambda x: 1 if reason in x else 0)\n",
    "            df[col_name] = le.fit_transform(df[col_name])\n",
    "\n",
    "\n",
    "# 그 후 각 항목에 대해 Label Encoding을 해줄 수 있음 (각 항목에 대해 다중 레이블 인코딩)\n",
    "\n",
    "# 레이블 인코딩을 위한 객체 생성\n",
    "le = LabelEncoder()\n",
    "\n",
    "# \"난자 출처\"에서 \"알 수 없음\"을 -1로 처리\n",
    "df[\"난자 출처\"] = df[\"난자 출처\"].replace(\"알 수 없음\", -1)\n",
    "\n",
    "# 모든 값을 문자열로 변환 후 Label Encoding\n",
    "df[\"난자 출처\"] = df[\"난자 출처\"].astype(str)  # 모든 값을 문자열로 변환\n",
    "\n",
    "# Label Encoding 적용\n",
    "df[\"난자 출처\"] = le.fit_transform(df[\"난자 출처\"])\n",
    "# \"정자 출처\" Label Encoding 처리\n",
    "df[\"정자 출처\"] = le.fit_transform(df[\"정자 출처\"])\n",
    "\n",
    "# \"난자 기증자 나이\"에서 \"알 수 없음\"을 -1로 처리\n",
    "df[\"난자 기증자 나이\"] = df[\"난자 기증자 나이\"].replace(\"알 수 없음\", -1)\n",
    "df[\"난자 기증자 나이\"] = le.fit_transform(df[\"난자 기증자 나이\"])\n",
    "\n",
    "# \"정자 기증자 나이\"에서 \"알 수 없음\"을 -1로 처리\n",
    "df[\"정자 기증자 나이\"] = df[\"정자 기증자 나이\"].replace(\"알 수 없음\", -1)\n",
    "df[\"정자 기증자 나이\"] = le.fit_transform(df[\"정자 기증자 나이\"])\n",
    "\n",
    "# 결과 확인\n",
    "print(df.head())"
   ]
  },
  {
   "cell_type": "code",
   "execution_count": 43,
   "id": "5663dc27-ae72-48cc-afbe-3722ccba0964",
   "metadata": {},
   "outputs": [
    {
     "name": "stdout",
     "output_type": "stream",
     "text": [
      "시술 유형\n",
      "1    250060\n",
      "0      6291\n",
      "Name: count, dtype: int64\n"
     ]
    }
   ],
   "source": [
    "import pandas as pd\n",
    "from sklearn.preprocessing import LabelEncoder\n",
    "\n",
    "# 데이터 로드\n",
    "train_path = \"/Users/yudayeon/Desktop/캡스톤_결과/open/train.csv\"\n",
    "df = pd.read_csv(train_path)\n",
    "\n",
    "# 📌 Label Encoding을 위한 객체 생성\n",
    "le_surgery_code = LabelEncoder()\n",
    "le_age_group = LabelEncoder()\n",
    "le = LabelEncoder()\n",
    "\n",
    "# 📌 \"시술 시기 코드\" 변환\n",
    "df[\"시술 시기 코드\"] = le_surgery_code.fit_transform(df[\"시술 시기 코드\"])\n",
    "\n",
    "# 📌 \"시술 당시 나이 연령대\" 변환 (자동 Label Encoding)\n",
    "df[\"시술 당시 나이 연령대\"] = le_age_group.fit_transform(df[\"시술 당시 나이\"])\n",
    "\n",
    "\n",
    "df[\"배란 유도 유형\"] = le_age_group.fit_transform(df[\"배란 유도 유형\"])\n",
    "\n",
    "df[\"시술 유형\"] = le.fit_transform(df[\"시술 유형\"])\n",
    "\n",
    "print(df[\"시술 유형\"].value_counts())"
   ]
  },
  {
   "cell_type": "code",
   "execution_count": 47,
   "id": "51179ce8-4492-45cd-b14a-bd96a1aed6a3",
   "metadata": {},
   "outputs": [
    {
     "name": "stdout",
     "output_type": "stream",
     "text": [
      "난자 채취 경과일            51197\n",
      "난자 해동 경과일           248624\n",
      "난자 혼합 경과일            47444\n",
      "배아 이식 경과일            37275\n",
      "배아 해동 경과일           209691\n",
      "단일 배아 이식 여부              0\n",
      "착상 전 유전 검사 사용 여부    247342\n",
      "착상 전 유전 진단 사용 여부         0\n",
      "배아 생성 주요 이유              0\n",
      "총 생성 배아 수                0\n",
      "미세주입된 난자 수               0\n",
      "미세주입에서 생성된 배아 수          0\n",
      "이식된 배아 수                 0\n",
      "미세주입 배아 이식 수             0\n",
      "저장된 배아 수                 0\n",
      "미세주입 후 저장된 배아 수          0\n",
      "해동된 배아 수                 0\n",
      "해동 난자 수                  0\n",
      "수집된 신선 난자 수              0\n",
      "저장된 신선 난자 수              0\n",
      "혼합된 난자 수                 0\n",
      "파트너 정자와 혼합된 난자 수         0\n",
      "기증자 정자와 혼합된 난자 수         0\n",
      "동결 배아 사용 여부              0\n",
      "신선 배아 사용 여부              0\n",
      "기증 배아 사용 여부              0\n",
      "대리모 여부                   0\n",
      "dtype: int64\n"
     ]
    },
    {
     "name": "stderr",
     "output_type": "stream",
     "text": [
      "/var/folders/r_/v0bsr2bn417b78f3hwntq0sc0000gn/T/ipykernel_28697/3671216508.py:15: FutureWarning: Downcasting object dtype arrays on .fillna, .ffill, .bfill is deprecated and will change in a future version. Call result.infer_objects(copy=False) instead. To opt-in to the future behavior, set `pd.set_option('future.no_silent_downcasting', True)`\n",
      "  df.loc[df[\"시술 유형\"] == 0, embryo_timing_columns] = df.loc[df[\"시술 유형\"] == 0, embryo_timing_columns].fillna(-1)\n"
     ]
    }
   ],
   "source": [
    "# 난자 채취, 배아 이식, 난자 해동 등 관련 변수들\n",
    "embryo_timing_columns = [\n",
    "    \"난자 채취 경과일\", \"난자 해동 경과일\", \"난자 혼합 경과일\",\n",
    "    \"배아 이식 경과일\", \"배아 해동 경과일\", \"단일 배아 이식 여부\", \"착상 전 유전 검사 사용 여부\", \"착상 전 유전 진단 사용 여부\",\n",
    "    \"배아 생성 주요 이유\", \"총 생성 배아 수\", \"미세주입된 난자 수\",\n",
    "    \"미세주입에서 생성된 배아 수\", \"이식된 배아 수\", \"미세주입 배아 이식 수\",\n",
    "    \"저장된 배아 수\", \"미세주입 후 저장된 배아 수\", \"해동된 배아 수\",\n",
    "    \"해동 난자 수\", \"수집된 신선 난자 수\", \"저장된 신선 난자 수\",\n",
    "    \"혼합된 난자 수\", \"파트너 정자와 혼합된 난자 수\", \"기증자 정자와 혼합된 난자 수\",\n",
    "    \"동결 배아 사용 여부\", \"신선 배아 사용 여부\", \"기증 배아 사용 여부\",\n",
    "    \"대리모 여부\"\n",
    "]\n",
    "\n",
    "# 📌 DI를 시행한 경우 (시술 유형 == 1) 해당 변수들의 결측값을 -1로 채우기\n",
    "df.loc[df[\"시술 유형\"] == 0, embryo_timing_columns] = df.loc[df[\"시술 유형\"] == 0, embryo_timing_columns].fillna(-1)\n",
    "\n",
    "# 📌 결과 확인 (결측값이 -1로 채워졌는지 확인)\n",
    "print(df[embryo_timing_columns].isnull().sum())  # 모든 결측값이 0이어야 정상"
   ]
  },
  {
   "cell_type": "code",
   "execution_count": 53,
   "id": "840395f5-3ff6-4674-b60b-a089181a0b64",
   "metadata": {},
   "outputs": [
    {
     "name": "stdout",
     "output_type": "stream",
     "text": [
      "임신 시도 또는 마지막 임신 경과 연수    246979\n",
      "착상 전 유전 검사 사용 여부         247340\n",
      "PGD 시술 여부                254170\n",
      "PGS 시술 여부                254420\n",
      "난자 채취 경과일                 51197\n",
      "난자 해동 경과일                248622\n",
      "난자 혼합 경과일                 47444\n",
      "배아 이식 경과일                 37273\n",
      "배아 해동 경과일                209689\n",
      "dtype: int64\n"
     ]
    }
   ],
   "source": [
    "# 각 변수별 결측값 개수 출력\n",
    "missing_values = df.isnull().sum()\n",
    "\n",
    "# 결측값이 있는 변수만 출력\n",
    "print(missing_values[missing_values > 0])"
   ]
  },
  {
   "cell_type": "code",
   "execution_count": 55,
   "id": "e59cc422-e528-4364-a571-dad8d98355bd",
   "metadata": {},
   "outputs": [
    {
     "name": "stdout",
     "output_type": "stream",
     "text": [
      "'임신 시도 또는 마지막 임신 경과 연수'에서 0값의 개수: 12\n",
      "'착상 전 유전 검사 사용 여부'에서 0값의 개수: 0\n",
      "'PGD 시술 여부'에서 0값의 개수: 0\n",
      "'PGS 시술 여부'에서 0값의 개수: 0\n",
      "'난자 채취 경과일'에서 0값의 개수: 198861\n",
      "'난자 해동 경과일'에서 0값의 개수: 1434\n",
      "'난자 혼합 경과일'에서 0값의 개수: 201918\n",
      "'배아 이식 경과일'에서 0값의 개수: 24904\n",
      "'배아 해동 경과일'에서 0값의 개수: 39801\n"
     ]
    }
   ],
   "source": [
    "# 확인할 변수들\n",
    "columns_to_check = [\n",
    "    \"임신 시도 또는 마지막 임신 경과 연수\", \"착상 전 유전 검사 사용 여부\", \n",
    "    \"PGD 시술 여부\", \"PGS 시술 여부\", \"난자 채취 경과일\", \n",
    "    \"난자 해동 경과일\", \"난자 혼합 경과일\", \"배아 이식 경과일\", \n",
    "    \"배아 해동 경과일\"\n",
    "]\n",
    "\n",
    "# 각 변수에서 0값이 얼마나 있는지 확인\n",
    "for column in columns_to_check:\n",
    "    zero_count = (df[column] == 0).sum()\n",
    "    print(f\"'{column}'에서 0값의 개수: {zero_count}\")"
   ]
  },
  {
   "cell_type": "code",
   "execution_count": 57,
   "id": "73dab716-4daf-481b-9a5a-2e34910941f6",
   "metadata": {},
   "outputs": [
    {
     "name": "stdout",
     "output_type": "stream",
     "text": [
      "착상 전 유전 검사 사용 여부    0\n",
      "PGD 시술 여부           0\n",
      "PGS 시술 여부           0\n",
      "dtype: int64\n"
     ]
    }
   ],
   "source": [
    "# 결측값을 0으로 처리할 변수들\n",
    "columns_to_fill = [\n",
    "    \"착상 전 유전 검사 사용 여부\", \"PGD 시술 여부\", \"PGS 시술 여부\" , \n",
    "]\n",
    "\n",
    "# 결측값을 0으로 채우기\n",
    "df[columns_to_fill] = df[columns_to_fill].fillna(0)\n",
    "\n",
    "# 결과 확인 (결측값이 0으로 채워졌는지 확인)\n",
    "print(df[columns_to_fill].isnull().sum())  # 모든 결측값이 0이어야 정상"
   ]
  },
  {
   "cell_type": "code",
   "execution_count": 59,
   "id": "e8d8bd47-1100-46ba-a440-62fdf051d3bc",
   "metadata": {},
   "outputs": [
    {
     "name": "stdout",
     "output_type": "stream",
     "text": [
      "임신 시도 또는 마지막 임신 경과 연수    246979\n",
      "난자 채취 경과일                 51197\n",
      "난자 해동 경과일                248622\n",
      "난자 혼합 경과일                 47444\n",
      "배아 이식 경과일                 37273\n",
      "배아 해동 경과일                209689\n",
      "dtype: int64\n"
     ]
    }
   ],
   "source": [
    "# 각 변수별 결측값 개수 출력\n",
    "missing_values = df.isnull().sum()\n",
    "\n",
    "# 결측값이 있는 변수만 출력\n",
    "print(missing_values[missing_values > 0])"
   ]
  },
  {
   "cell_type": "code",
   "execution_count": 67,
   "id": "e422183c-9115-4f11-a886-97931b94e0ba",
   "metadata": {},
   "outputs": [
    {
     "name": "stdout",
     "output_type": "stream",
     "text": [
      "난자 채취 경과일    0\n",
      "난자 해동 경과일    0\n",
      "난자 혼합 경과일    0\n",
      "dtype: int64\n"
     ]
    }
   ],
   "source": [
    "# 결측값을 0으로 처리할 변수들\n",
    "columns_to_fill = [\n",
    "    \"난자 채취 경과일\", \"난자 해동 경과일\", \"난자 혼합 경과일\" , \n",
    "]\n",
    "\n",
    "# 결측값을 0으로 채우기\n",
    "df[columns_to_fill] = df[columns_to_fill].fillna(-1)\n",
    "\n",
    "# 결과 확인 (결측값이 0으로 채워졌는지 확인)\n",
    "print(df[columns_to_fill].isnull().sum())  # 모든 결측값이 0이어야 정"
   ]
  },
  {
   "cell_type": "code",
   "execution_count": 69,
   "id": "29a69735-0ab0-4200-ad00-f0970a732d2c",
   "metadata": {},
   "outputs": [
    {
     "name": "stdout",
     "output_type": "stream",
     "text": [
      "임신 시도 또는 마지막 임신 경과 연수    0\n",
      "난자 해동 경과일                0\n",
      "배아 이식 경과일                0\n",
      "dtype: int64\n"
     ]
    }
   ],
   "source": [
    "# 결측값을 0으로 처리할 변수들\n",
    "columns_to_fill = [\n",
    "    \"임신 시도 또는 마지막 임신 경과 연수\", \"난자 해동 경과일\", \"배아 이식 경과일\" , \n",
    "]\n",
    "\n",
    "# 결측값을 0으로 채우기\n",
    "df[columns_to_fill] = df[columns_to_fill].fillna(0)\n",
    "\n",
    "# 결과 확인 (결측값이 0으로 채워졌는지 확인)\n",
    "print(df[columns_to_fill].isnull().sum())  # 모든 결측값이 0이어야 정상"
   ]
  },
  {
   "cell_type": "code",
   "execution_count": 71,
   "id": "1a7ea17a-1be0-446a-b6a5-62afd5d43c7a",
   "metadata": {},
   "outputs": [
    {
     "name": "stdout",
     "output_type": "stream",
     "text": [
      "Series([], dtype: int64)\n"
     ]
    }
   ],
   "source": [
    "# 각 변수별 결측값 개수 출력\n",
    "missing_values = df.isnull().sum()\n",
    "\n",
    "# 결측값이 있는 변수만 출력\n",
    "print(missing_values[missing_values > 0])"
   ]
  },
  {
   "cell_type": "code",
   "execution_count": null,
   "id": "a0640b3c-5637-4259-aa33-e9af1861d0b5",
   "metadata": {},
   "outputs": [],
   "source": [
    "# 📌 \"특정 시술 유형\"의 결측값을 \"Unknown\"으로 채우기\n",
    "df[\"특정 시술 유형\"] = df[\"특정 시술 유형\"].fillna(\"-1\")\n",
    "\n",
    "# 📌 \":\" 또는 \"/\"를 기준으로 여러 개의 시술 유형을 리스트로 변환\n",
    "df[\"특정 시술 유형\"] = df[\"특정 시술 유형\"].apply(lambda x: x.replace(\":\", \"/\").split(\"/\") if isinstance(x, str) else x)\n",
    "\n",
    "# 📌 다중 레이블 인코딩 (One-Hot Encoding 방식 적용)\n",
    "mlb = MultiLabelBinarizer()\n",
    "encoded_surgery_types = pd.DataFrame(mlb.fit_transform(df[\"특정 시술 유형\"]), columns=mlb.classes_)\n",
    "\n",
    "# 📌 기존 \"특정 시술 유형\" 컬럼을 삭제하고 One-Hot Encoding된 데이터 추가\n",
    "df = df.drop(columns=[\"특정 시술 유형\"]).join(encoded_surgery_types)"
   ]
  },
  {
   "cell_type": "code",
   "execution_count": null,
   "id": "a0013dfa-21ce-4e9b-9182-0d25cbd37dcc",
   "metadata": {},
   "outputs": [],
   "source": []
  },
  {
   "cell_type": "code",
   "execution_count": null,
   "id": "e6972e9b-849f-4230-b4cf-1ccc60989262",
   "metadata": {},
   "outputs": [],
   "source": []
  },
  {
   "cell_type": "code",
   "execution_count": null,
   "id": "3cdc4b81-7a01-4a77-8419-a58f11c199cc",
   "metadata": {},
   "outputs": [],
   "source": []
  },
  {
   "cell_type": "code",
   "execution_count": 5,
   "id": "a21ff628-1da5-46c0-b1b1-20f25f9405d1",
   "metadata": {},
   "outputs": [
    {
     "name": "stdout",
     "output_type": "stream",
     "text": [
      "단일 배아 이식 여부\n",
      "0.0    191677\n",
      "1.0     58383\n",
      "NaN      6291\n",
      "Name: count, dtype: int64\n"
     ]
    }
   ],
   "source": [
    "# \"단일 배아 이식 여부\" 변수의 값 개수 및 결측값 개수 확인\n",
    "print(df[\"단일 배아 이식 여부\"].value_counts(dropna=False))"
   ]
  },
  {
   "cell_type": "code",
   "execution_count": 3,
   "id": "1cc54023-9e03-42be-9a74-675b97f708b0",
   "metadata": {},
   "outputs": [
    {
     "name": "stdout",
     "output_type": "stream",
     "text": [
      "   시술 시기 코드 시술 당시 나이\n",
      "0         6  만18-34세\n",
      "1         5  만45-50세\n",
      "2         3  만18-34세\n",
      "3         2  만35-37세\n",
      "4         3  만18-34세\n"
     ]
    }
   ],
   "source": [
    "import pandas as pd\n",
    "from sklearn.preprocessing import LabelEncoder\n",
    "\n",
    "# 데이터 로드\n",
    "train_path = \"/Users/yudayeon/Desktop/캡스톤_결과/open/train.csv\"\n",
    "df = pd.read_csv(train_path)\n",
    "\n",
    "# 📌 Label Encoding을 위한 객체 생성\n",
    "le_surgery_code = LabelEncoder()\n",
    "le_age_group = LabelEncoder()\n",
    "\n",
    "# 📌 \"시술 시기 코드\" 변환\n",
    "df[\"시술 시기 코드\"] = le_surgery_code.fit_transform(df[\"시술 시기 코드\"])\n",
    "\n",
    "# 📌 \"시술 당시 나이 연령대\" 변환 (자동 Label Encoding)\n",
    "df[\"시술 당시 나이 연령대\"] = le_age_group.fit_transform(df[\"시술 당시 나이\"])\n",
    "\n",
    "\n",
    "df[\"배란 유도 유형\"] = le_age_group.fit_transform(df[\"배란 유도 유형\"])\n",
    "\n",
    "# 변환된 값 확인\n",
    "print(df[[\"시술 시기 코드\", \"시술 당시 나이\"]].head())"
   ]
  },
  {
   "cell_type": "code",
   "execution_count": 3,
   "id": "983df512-dbb2-4435-b67b-17e81a0254f2",
   "metadata": {},
   "outputs": [
    {
     "name": "stdout",
     "output_type": "stream",
     "text": [
      "0    0.0\n",
      "1    0.0\n",
      "2    0.0\n",
      "3    0.0\n",
      "4    0.0\n",
      "Name: 임신 시도 또는 마지막 임신 경과 연수, dtype: float64\n"
     ]
    }
   ],
   "source": [
    "# 📌 결측값을 0으로 채우기 (Pandas 3.0 대응)\n",
    "df[\"임신 시도 또는 마지막 임신 경과 연수\"] = df[\"임신 시도 또는 마지막 임신 경과 연수\"].fillna(0)\n",
    "\n",
    "# 변환된 값 확인\n",
    "print(df[\"임신 시도 또는 마지막 임신 경과 연수\"].head())"
   ]
  },
  {
   "cell_type": "code",
   "execution_count": 5,
   "id": "8a0fa7b1-d148-4339-97fc-3c496b4030c8",
   "metadata": {},
   "outputs": [
    {
     "name": "stdout",
     "output_type": "stream",
     "text": [
      "             ID  시술 시기 코드 시술 당시 나이  임신 시도 또는 마지막 임신 경과 연수 시술 유형  배란 자극 여부  \\\n",
      "0  TRAIN_000000         6  만18-34세                    0.0   IVF         1   \n",
      "1  TRAIN_000001         5  만45-50세                    0.0   IVF         0   \n",
      "2  TRAIN_000002         3  만18-34세                    0.0   IVF         1   \n",
      "3  TRAIN_000003         2  만35-37세                    0.0   IVF         1   \n",
      "4  TRAIN_000004         3  만18-34세                    0.0   IVF         1   \n",
      "\n",
      "   배란 유도 유형  단일 배아 이식 여부  착상 전 유전 검사 사용 여부  착상 전 유전 진단 사용 여부  ...  GIFT  \\\n",
      "0         0          0.0               NaN               0.0  ...     0   \n",
      "1         3          0.0               NaN               0.0  ...     0   \n",
      "2         0          0.0               NaN               0.0  ...     0   \n",
      "3         0          0.0               NaN               0.0  ...     0   \n",
      "4         0          0.0               NaN               0.0  ...     0   \n",
      "\n",
      "   Generic DI  ICI  ICSI  ICSI   IUI  IVF  IVF   IVI  Unknown  \n",
      "0           0    0     1      0    0    0     0    0        0  \n",
      "1           0    0     1      0    0    0     0    0        0  \n",
      "2           0    0     0      0    0    1     0    0        0  \n",
      "3           0    0     1      0    0    0     0    0        0  \n",
      "4           0    0     1      0    0    0     0    0        0  \n",
      "\n",
      "[5 rows x 84 columns]\n"
     ]
    }
   ],
   "source": [
    "import pandas as pd\n",
    "from sklearn.preprocessing import MultiLabelBinarizer\n",
    "\n",
    "# 📌 \"특정 시술 유형\"의 결측값을 \"Unknown\"으로 채우기\n",
    "df[\"특정 시술 유형\"] = df[\"특정 시술 유형\"].fillna(\"-1\")\n",
    "\n",
    "# 📌 \":\" 또는 \"/\"를 기준으로 여러 개의 시술 유형을 리스트로 변환\n",
    "df[\"특정 시술 유형\"] = df[\"특정 시술 유형\"].apply(lambda x: x.replace(\":\", \"/\").split(\"/\") if isinstance(x, str) else x)\n",
    "\n",
    "# 📌 다중 레이블 인코딩 (One-Hot Encoding 방식 적용)\n",
    "mlb = MultiLabelBinarizer()\n",
    "encoded_surgery_types = pd.DataFrame(mlb.fit_transform(df[\"특정 시술 유형\"]), columns=mlb.classes_)\n",
    "\n",
    "# 📌 기존 \"특정 시술 유형\" 컬럼을 삭제하고 One-Hot Encoding된 데이터 추가\n",
    "df = df.drop(columns=[\"특정 시술 유형\"]).join(encoded_surgery_types)\n",
    "\n",
    "# 결과 확인\n",
    "print(df.head())"
   ]
  },
  {
   "cell_type": "code",
   "execution_count": 43,
   "id": "ef0a44fe-1c83-4eb6-b8a7-3058a1710dcf",
   "metadata": {},
   "outputs": [],
   "source": [
    "# 2️⃣ \"불임 원인\" 관련 변수들은 -1(정보 없음)으로 채우기\n",
    "infertility_columns = [\n",
    "    \"남성 주 불임 원인\", \"남성 부 불임 원인\", \"여성 주 불임 원인\", \"여성 부 불임 원인\",\n",
    "    \"부부 주 불임 원인\", \"부부 부 불임 원인\", \"불명확 불임 원인\",\n",
    "    \"불임 원인 - 난관 질환\", \"불임 원인 - 남성 요인\", \"불임 원인 - 배란 장애\",\n",
    "    \"불임 원인 - 여성 요인\", \"불임 원인 - 자궁경부 문제\", \"불임 원인 - 자궁내막증\",\n",
    "    \"불임 원인 - 정자 농도\", \"불임 원인 - 정자 면역학적 요인\", \"불임 원인 - 정자 운동성\",\n",
    "    \"불임 원인 - 정자 형태\"\n",
    "]\n",
    "\n",
    "df[infertility_columns] = df[infertility_columns].fillna(-1)  # -1 = 정보 없음 (Missing Data)\n",
    "df[infertility_columns] = df[infertility_columns].astype(int)  # 정수형 변환\n"
   ]
  },
  {
   "cell_type": "code",
   "execution_count": 45,
   "id": "c988b259-fec1-42c2-9ae6-0a46460ec8b0",
   "metadata": {},
   "outputs": [
    {
     "name": "stdout",
     "output_type": "stream",
     "text": [
      "특정 시술 유형\n",
      "IUI           6100\n",
      "ICI             96\n",
      "Generic DI      71\n",
      "IVI             23\n",
      "GIFT             1\n",
      "Name: count, dtype: int64\n",
      "6291 0\n"
     ]
    }
   ],
   "source": [
    "# 결측값이 동일한 행들만 필터링해서 확인\n",
    "missing_pattern = df[df[\"총 생성 배아 수\"].isnull()]\n",
    "\n",
    "# 특정 시술 유형이 같은지 확인\n",
    "print(missing_pattern[\"특정 시술 유형\"].value_counts())\n",
    "\n",
    "# 임신 시도 또는 마지막 임신 경과 연수가 결측값인 행과 비교\n",
    "missing_other = df[df[\"임신 시도 또는 마지막 임신 경과 연수\"].isnull()]\n",
    "print(len(missing_pattern), len(missing_other))"
   ]
  },
  {
   "cell_type": "code",
   "execution_count": 89,
   "id": "08b28e0f-4ec6-48ab-999a-260a672b98db",
   "metadata": {},
   "outputs": [
    {
     "name": "stdout",
     "output_type": "stream",
     "text": [
      "시술 유형\n",
      "0    6291\n",
      "1    6291\n",
      "Name: count, dtype: int64\n"
     ]
    },
    {
     "name": "stderr",
     "output_type": "stream",
     "text": [
      "/var/folders/r_/v0bsr2bn417b78f3hwntq0sc0000gn/T/ipykernel_10150/545947941.py:24: FutureWarning: \n",
      "\n",
      "Passing `palette` without assigning `hue` is deprecated and will be removed in v0.14.0. Assign the `x` variable to `hue` and set `legend=False` for the same effect.\n",
      "\n",
      "  sns.barplot(x=success_rates_df[\"시술 유형\"], y=success_rates_df[\"임신 성공 여부\"], palette=\"coolwarm\")\n"
     ]
    },
    {
     "data": {
      "image/png": "[encoded data removed]",
      "text/plain": [
       "<Figure size 600x400 with 1 Axes>"
      ]
     },
     "metadata": {},
     "output_type": "display_data"
    },
    {
     "name": "stdout",
     "output_type": "stream",
     "text": [
      "   시술 유형  임신 성공 여부\n",
      "0      0  0.128914\n",
      "1      1  0.261605\n"
     ]
    }
   ],
   "source": [
    "import matplotlib.pyplot as plt\n",
    "import matplotlib.font_manager as fm\n",
    "import seaborn as sns\n",
    "\n",
    "# 📌 IVF 또는 DI 여부별 임신 성공률 계산\n",
    "success_rates = df.groupby(\"시술 유형\")[\"임신 성공 여부\"].mean()\n",
    "\n",
    "# 📌 데이터프레임 변환\n",
    "success_rates_df = success_rates.reset_index()\n",
    "\n",
    "di_sample = resample(di_group, replace=False, n_samples=len(ivf_group), random_state=42)\n",
    "\n",
    "# IVF 그룹과 샘플링된 DI 그룹 합치기\n",
    "balanced_df = pd.concat([ivf_group, di_sample])\n",
    "\n",
    "# 샘플 크기 확인\n",
    "print(balanced_df[\"시술 유형\"].value_counts())\n",
    "\n",
    "# 📌 MacOS에서 한글 폰트 설정\n",
    "plt.rcParams['font.family'] = \"AppleGothic\"  # 애플 기본 한글 폰트\n",
    "\n",
    "# 📌 시각화\n",
    "plt.figure(figsize=(6, 4))\n",
    "sns.barplot(x=success_rates_df[\"시술 유형\"], y=success_rates_df[\"임신 성공 여부\"], palette=\"coolwarm\")\n",
    "plt.xticks([0, 1], [\"IVF\", \"DI\"])\n",
    "plt.ylabel(\"임신 성공률\")\n",
    "plt.xlabel(\"IVF 또는 DI 시술 여부\")\n",
    "plt.title(\"IVF 또는 DI 시술 여부에 따른 임신 성공률 비교\")\n",
    "plt.show()\n",
    "\n",
    "# 결과 출력\n",
    "print(success_rates_df)"
   ]
  },
  {
   "cell_type": "code",
   "execution_count": 81,
   "id": "61ffd6cc-364f-4ac1-b29c-de49ecfa12cb",
   "metadata": {},
   "outputs": [
    {
     "name": "stdout",
     "output_type": "stream",
     "text": [
      "카이제곱 통계량: 563.2113\n",
      "p-value: 0.0000\n",
      "✅ IVF와 DI 간의 임신 성공률 차이가 통계적으로 유의미함!\n"
     ]
    }
   ],
   "source": [
    "import scipy.stats as stats\n",
    "import pandas as pd\n",
    "\n",
    "# IVF(0) vs DI(1) 그룹의 성공/실패 빈도 테이블 생성\n",
    "contingency_table = pd.crosstab(df[\"시술 유형\"], df[\"임신 성공 여부\"])\n",
    "\n",
    "# 카이제곱 검정 실행\n",
    "chi2, p, dof, expected = stats.chi2_contingency(contingency_table)\n",
    "\n",
    "# 결과 출력\n",
    "print(f\"카이제곱 통계량: {chi2:.4f}\")\n",
    "print(f\"p-value: {p:.4f}\")\n",
    "\n",
    "# p-value < 0.05이면 유의미한 차이가 있음!\n",
    "if p < 0.05:\n",
    "    print(\"✅ IVF와 DI 간의 임신 성공률 차이가 통계적으로 유의미함!\")\n",
    "else:\n",
    "    print(\"❌ IVF와 DI 간의 차이가 유의미하지 않음. 단순한 우연일 가능성 있음.\")"
   ]
  },
  {
   "cell_type": "code",
   "execution_count": null,
   "id": "22aa52d6-a895-43cd-be4c-30077039b43c",
   "metadata": {},
   "outputs": [],
   "source": [
    "# 배아 관련 변수 목록 (결측값 6291개인 변수들)\n",
    "embryo_related_columns = [\n",
    "    \"단일 배아 이식 여부\", \"착상 전 유전 검사 사용 여부\", \"착상 전 유전 진단 사용 여부\",\n",
    "    \"배아 생성 주요 이유\", \"총 생성 배아 수\", \"미세주입된 난자 수\",\n",
    "    \"미세주입에서 생성된 배아 수\", \"이식된 배아 수\", \"미세주입 배아 이식 수\",\n",
    "    \"저장된 배아 수\", \"미세주입 후 저장된 배아 수\", \"해동된 배아 수\",\n",
    "    \"해동 난자 수\", \"수집된 신선 난자 수\", \"저장된 신선 난자 수\",\n",
    "    \"혼합된 난자 수\", \"파트너 정자와 혼합된 난자 수\", \"기증자 정자와 혼합된 난자 수\",\n",
    "    \"동결 배아 사용 여부\", \"신선 배아 사용 여부\", \"기증 배아 사용 여부\",\n",
    "    \"대리모 여부\"\n",
    "]\n",
    "\n",
    "# 📌 \"시술 유형\"이 1 (DI 시술을 받은 경우) & 해당 변수가 결측값(NaN)인 경우만 -1로 변경\n",
    "df.loc[(df[\"시술 유형\"] == 1) & (df[embryo_related_columns].isnull()), embryo_related_columns] = -1\n",
    "\n",
    "# 📌 결과 확인 (모든 결측값이 0인지 확인)\n",
    "print(df[embryo_related_columns].isnull().sum())  # 모든 결측값이 0이어야 함"
   ]
  },
  {
   "cell_type": "code",
   "execution_count": null,
   "id": "27a5aed1-4930-4045-8c9d-fcbf1e6373df",
   "metadata": {},
   "outputs": [],
   "source": []
  },
  {
   "cell_type": "code",
   "execution_count": null,
   "id": "c405ea27-025c-4b39-aa15-99e56ee33be5",
   "metadata": {},
   "outputs": [],
   "source": []
  },
  {
   "cell_type": "code",
   "execution_count": null,
   "id": "7b5d107f-a72e-4426-a3c0-b80643fd797b",
   "metadata": {},
   "outputs": [],
   "source": []
  },
  {
   "cell_type": "code",
   "execution_count": null,
   "id": "e023eddb-7eee-41d3-af44-16fb19fc6fd8",
   "metadata": {},
   "outputs": [],
   "source": []
  },
  {
   "cell_type": "code",
   "execution_count": null,
   "id": "0f54a08c-adfa-4d4a-a599-c0392c94991e",
   "metadata": {},
   "outputs": [],
   "source": []
  },
  {
   "cell_type": "code",
   "execution_count": 1,
   "id": "32aa641c-1de7-4e70-bedd-3c25ea357d98",
   "metadata": {},
   "outputs": [
    {
     "name": "stdout",
     "output_type": "stream",
     "text": [
      "📌 Train 데이터 결측치 개수:\n",
      "ID                            0\n",
      "시술 시기 코드                      0\n",
      "시술 당시 나이                      0\n",
      "임신 시도 또는 마지막 임신 경과 연수    246981\n",
      "시술 유형                         0\n",
      "                          ...  \n",
      "난자 해동 경과일                254915\n",
      "난자 혼합 경과일                 53735\n",
      "배아 이식 경과일                 43566\n",
      "배아 해동 경과일                215982\n",
      "임신 성공 여부                      0\n",
      "Length: 69, dtype: int64\n",
      "\n",
      "📌 Test 데이터 결측치 개수:\n",
      "ID                           0\n",
      "시술 시기 코드                     0\n",
      "시술 당시 나이                     0\n",
      "임신 시도 또는 마지막 임신 경과 연수    86770\n",
      "시술 유형                        0\n",
      "                         ...  \n",
      "난자 채취 경과일                19949\n",
      "난자 해동 경과일                89575\n",
      "난자 혼합 경과일                18579\n",
      "배아 이식 경과일                15246\n",
      "배아 해동 경과일                76117\n",
      "Length: 68, dtype: int64\n"
     ]
    }
   ],
   "source": [
    "# 📌 모델 예측\n",
    "y_pred = model.predict(test_data)  # 예측값 생성\n",
    "\n",
    "# 📌 ID와 예측값을 함께 저장 (결과 제출용)\n",
    "submission = pd.DataFrame({'ID': test_ids, 'probability': y_pred})\n",
    "\n",
    "# 📌 CSV 파일로 저장\n",
    "submission.to_csv(\"doublekill.csv\", index=False)\n",
    "\n",
    "print(\"✅ 제출 파일 저장 완료: doublekiill.csv\")"
   ]
  },
  {
   "cell_type": "code",
   "execution_count": null,
   "id": "d12a3e9b-4999-406d-b0ce-a2d4559cdf3c",
   "metadata": {},
   "outputs": [],
   "source": []
  },
  {
   "cell_type": "code",
   "execution_count": 13,
   "id": "dba874b4-4286-419e-a1a2-584c619607b6",
   "metadata": {},
   "outputs": [
    {
     "name": "stdout",
     "output_type": "stream",
     "text": [
      "✅ 데이터 전처리 완료!\n",
      "📁 Train 파일 저장 완료: /Users/yudayeon/Desktop/캡스톤_결과/open/train_cleaned.csv\n",
      "📁 Test 파일 저장 완료: /Users/yudayeon/Desktop/캡스톤_결과/open/test_cleaned.csv\n"
     ]
    }
   ],
   "source": []
  },
  {
   "cell_type": "code",
   "execution_count": 19,
   "id": "b7fe4d50-0fbe-45c2-9247-577d0c652a08",
   "metadata": {},
   "outputs": [
    {
     "name": "stdout",
     "output_type": "stream",
     "text": [
      "✅ 유의 수준 0.05 이하의 변수들:\n",
      "                       변수      상관계수        p-value\n",
      "6             단일 배아 이식 여부  0.139127   0.000000e+00\n",
      "40            신선 배아 사용 여부  0.053753  2.493300e-163\n",
      "41            기증 배아 사용 여부  0.047636  1.150822e-128\n",
      "2                   시술 유형  0.046901  8.740664e-125\n",
      "42                 대리모 여부  0.044899  1.645638e-114\n",
      "17          불임 원인 - 남성 요인  0.037908   3.682036e-82\n",
      "4                배란 자극 여부  0.033212   1.739173e-63\n",
      "8        착상 전 유전 진단 사용 여부  0.027970   1.524524e-45\n",
      "18          불임 원인 - 배란 장애  0.025021   8.635398e-37\n",
      "46               여성_불임_개수  0.014177   7.051074e-13\n",
      "36                  정자 출처  0.011835   2.064948e-09\n",
      "38              정자 기증자 나이  0.010932   3.109040e-08\n",
      "33              IVF 출산 횟수  0.009728   8.415510e-07\n",
      "32                총 출산 횟수  0.007696   9.757139e-05\n",
      "0                시술 시기 코드  0.005298   7.305462e-03\n",
      "30              IVF 임신 횟수  0.005129   9.401916e-03\n",
      "43              PGD 시술 여부  0.004471   2.359075e-02\n",
      "34               DI 출산 횟수 -0.006187   1.731552e-03\n",
      "39            동결 배아 사용 여부 -0.007649   1.074840e-04\n",
      "31               DI 임신 횟수 -0.008520   1.604597e-05\n",
      "44              PGS 시술 여부 -0.010349   1.606992e-07\n",
      "9              남성 주 불임 원인 -0.015020   2.839989e-14\n",
      "14             부부 부 불임 원인 -0.015346   7.835780e-15\n",
      "11             여성 주 불임 원인 -0.015945   6.831976e-16\n",
      "10             남성 부 불임 원인 -0.016025   4.901541e-16\n",
      "12             여성 부 불임 원인 -0.016034   4.715485e-16\n",
      "13             부부 주 불임 원인 -0.016099   3.594028e-16\n",
      "28               DI 시술 횟수 -0.017081   5.208495e-18\n",
      "1   임신 시도 또는 마지막 임신 경과 연수 -0.020639   1.456155e-25\n",
      "7        착상 전 유전 검사 사용 여부 -0.026033   1.101768e-39\n",
      "47               시술_유형_개수 -0.028953   1.122492e-48\n",
      "3                특정 시술 유형 -0.029989   4.308982e-52\n",
      "37              난자 기증자 나이 -0.034398   5.719430e-68\n",
      "5                배란 유도 유형 -0.040729   1.482234e-94\n",
      "35                  난자 출처 -0.052500  6.883927e-156\n",
      "26          클리닉 내 총 시술 횟수 -0.052820  9.006147e-158\n",
      "27              IVF 시술 횟수 -0.055852  3.431233e-176\n",
      "25                총 시술 횟수 -0.058923  6.624029e-196\n"
     ]
    }
   ],
   "source": [
    "import pandas as pd\n",
    "import scipy.stats as stats\n",
    "import numpy as np\n",
    "\n",
    "# 📌 데이터 로드\n",
    "train_path = \"/Users/yudayeon/Desktop/캡스톤_결과/open/train_cleaned.csv\"\n",
    "train_df = pd.read_csv(train_path, encoding=\"utf-8\")\n",
    "\n",
    "# 📌 결과 변수 지정 (결과 변수명을 실제 데이터에 맞게 변경)\n",
    "target_variable = \"임신 성공 여부\"  # 예: '출산 성공 여부', '임신 여부' 등\n",
    "\n",
    "# 📌 수치형 변수만 필터링\n",
    "numeric_columns = train_df.select_dtypes(include=[np.number]).columns.tolist()\n",
    "\n",
    "# 📌 결과 변수 제외하고 상관관계 분석\n",
    "if target_variable in numeric_columns:\n",
    "    numeric_columns.remove(target_variable)\n",
    "else:\n",
    "    raise ValueError(f\"결과 변수 '{target_variable}'이(가) 데이터에 존재하지 않습니다. 정확한 컬럼명을 입력하세요.\")\n",
    "\n",
    "# 📌 유효한 변수만 필터링 (NaN, inf, 상수값 제거)\n",
    "valid_columns = []\n",
    "for col in numeric_columns:\n",
    "    if train_df[col].nunique() > 1 and not train_df[col].isna().any() and np.isfinite(train_df[col]).all():\n",
    "        valid_columns.append(col)\n",
    "\n",
    "# 📌 상관계수 및 p-value 계산\n",
    "correlation_results = []\n",
    "for col in valid_columns:\n",
    "    corr, p_value = stats.pearsonr(train_df[col], train_df[target_variable])\n",
    "    correlation_results.append((col, corr, p_value))\n",
    "\n",
    "# 📌 데이터프레임 변환\n",
    "correlation_df = pd.DataFrame(correlation_results, columns=[\"변수\", \"상관계수\", \"p-value\"])\n",
    "\n",
    "# 📌 유의 수준 0.05 이하 필터링 및 정렬\n",
    "significant_correlation = correlation_df[correlation_df[\"p-value\"] < 0.05].sort_values(by=\"상관계수\", ascending=False)\n",
    "\n",
    "# 📌 결과 출력\n",
    "print(\"✅ 유의 수준 0.05 이하의 변수들:\")\n",
    "print(significant_correlation)\n"
   ]
  },
  {
   "cell_type": "code",
   "execution_count": 23,
   "id": "3b0aa1f0-d09e-4446-bf2c-13bbf384bb88",
   "metadata": {},
   "outputs": [
    {
     "name": "stdout",
     "output_type": "stream",
     "text": [
      "✅ 랜덤 포레스트 모델 성능:\n",
      "🎯 정확도(Accuracy): 0.7216\n",
      "🎯 F1-score: 0.6470\n",
      "📌 5-Fold CV 평균 정확도: 0.7223\n"
     ]
    },
    {
     "name": "stderr",
     "output_type": "stream",
     "text": [
      "/opt/anaconda3/lib/python3.12/site-packages/IPython/core/pylabtools.py:170: UserWarning: Glyph 49884 (\\N{HANGUL SYLLABLE SI}) missing from current font.\n",
      "  fig.canvas.print_figure(bytes_io, **kw)\n",
      "/opt/anaconda3/lib/python3.12/site-packages/IPython/core/pylabtools.py:170: UserWarning: Glyph 49696 (\\N{HANGUL SYLLABLE SUL}) missing from current font.\n",
      "  fig.canvas.print_figure(bytes_io, **kw)\n",
      "/opt/anaconda3/lib/python3.12/site-packages/IPython/core/pylabtools.py:170: UserWarning: Glyph 44592 (\\N{HANGUL SYLLABLE GI}) missing from current font.\n",
      "  fig.canvas.print_figure(bytes_io, **kw)\n",
      "/opt/anaconda3/lib/python3.12/site-packages/IPython/core/pylabtools.py:170: UserWarning: Glyph 53076 (\\N{HANGUL SYLLABLE KO}) missing from current font.\n",
      "  fig.canvas.print_figure(bytes_io, **kw)\n",
      "/opt/anaconda3/lib/python3.12/site-packages/IPython/core/pylabtools.py:170: UserWarning: Glyph 46300 (\\N{HANGUL SYLLABLE DEU}) missing from current font.\n",
      "  fig.canvas.print_figure(bytes_io, **kw)\n",
      "/opt/anaconda3/lib/python3.12/site-packages/IPython/core/pylabtools.py:170: UserWarning: Glyph 53364 (\\N{HANGUL SYLLABLE KEUL}) missing from current font.\n",
      "  fig.canvas.print_figure(bytes_io, **kw)\n",
      "/opt/anaconda3/lib/python3.12/site-packages/IPython/core/pylabtools.py:170: UserWarning: Glyph 47532 (\\N{HANGUL SYLLABLE RI}) missing from current font.\n",
      "  fig.canvas.print_figure(bytes_io, **kw)\n",
      "/opt/anaconda3/lib/python3.12/site-packages/IPython/core/pylabtools.py:170: UserWarning: Glyph 45769 (\\N{HANGUL SYLLABLE NIG}) missing from current font.\n",
      "  fig.canvas.print_figure(bytes_io, **kw)\n",
      "/opt/anaconda3/lib/python3.12/site-packages/IPython/core/pylabtools.py:170: UserWarning: Glyph 45236 (\\N{HANGUL SYLLABLE NAE}) missing from current font.\n",
      "  fig.canvas.print_figure(bytes_io, **kw)\n",
      "/opt/anaconda3/lib/python3.12/site-packages/IPython/core/pylabtools.py:170: UserWarning: Glyph 52509 (\\N{HANGUL SYLLABLE CONG}) missing from current font.\n",
      "  fig.canvas.print_figure(bytes_io, **kw)\n",
      "/opt/anaconda3/lib/python3.12/site-packages/IPython/core/pylabtools.py:170: UserWarning: Glyph 54943 (\\N{HANGUL SYLLABLE HOES}) missing from current font.\n",
      "  fig.canvas.print_figure(bytes_io, **kw)\n",
      "/opt/anaconda3/lib/python3.12/site-packages/IPython/core/pylabtools.py:170: UserWarning: Glyph 49688 (\\N{HANGUL SYLLABLE SU}) missing from current font.\n",
      "  fig.canvas.print_figure(bytes_io, **kw)\n",
      "/opt/anaconda3/lib/python3.12/site-packages/IPython/core/pylabtools.py:170: UserWarning: Glyph 51221 (\\N{HANGUL SYLLABLE JEONG}) missing from current font.\n",
      "  fig.canvas.print_figure(bytes_io, **kw)\n",
      "/opt/anaconda3/lib/python3.12/site-packages/IPython/core/pylabtools.py:170: UserWarning: Glyph 51088 (\\N{HANGUL SYLLABLE JA}) missing from current font.\n",
      "  fig.canvas.print_figure(bytes_io, **kw)\n",
      "/opt/anaconda3/lib/python3.12/site-packages/IPython/core/pylabtools.py:170: UserWarning: Glyph 51613 (\\N{HANGUL SYLLABLE JEUNG}) missing from current font.\n",
      "  fig.canvas.print_figure(bytes_io, **kw)\n",
      "/opt/anaconda3/lib/python3.12/site-packages/IPython/core/pylabtools.py:170: UserWarning: Glyph 45208 (\\N{HANGUL SYLLABLE NA}) missing from current font.\n",
      "  fig.canvas.print_figure(bytes_io, **kw)\n",
      "/opt/anaconda3/lib/python3.12/site-packages/IPython/core/pylabtools.py:170: UserWarning: Glyph 51060 (\\N{HANGUL SYLLABLE I}) missing from current font.\n",
      "  fig.canvas.print_figure(bytes_io, **kw)\n",
      "/opt/anaconda3/lib/python3.12/site-packages/IPython/core/pylabtools.py:170: UserWarning: Glyph 45800 (\\N{HANGUL SYLLABLE DAN}) missing from current font.\n",
      "  fig.canvas.print_figure(bytes_io, **kw)\n",
      "/opt/anaconda3/lib/python3.12/site-packages/IPython/core/pylabtools.py:170: UserWarning: Glyph 51068 (\\N{HANGUL SYLLABLE IL}) missing from current font.\n",
      "  fig.canvas.print_figure(bytes_io, **kw)\n",
      "/opt/anaconda3/lib/python3.12/site-packages/IPython/core/pylabtools.py:170: UserWarning: Glyph 48176 (\\N{HANGUL SYLLABLE BAE}) missing from current font.\n",
      "  fig.canvas.print_figure(bytes_io, **kw)\n",
      "/opt/anaconda3/lib/python3.12/site-packages/IPython/core/pylabtools.py:170: UserWarning: Glyph 50500 (\\N{HANGUL SYLLABLE A}) missing from current font.\n",
      "  fig.canvas.print_figure(bytes_io, **kw)\n",
      "/opt/anaconda3/lib/python3.12/site-packages/IPython/core/pylabtools.py:170: UserWarning: Glyph 49885 (\\N{HANGUL SYLLABLE SIG}) missing from current font.\n",
      "  fig.canvas.print_figure(bytes_io, **kw)\n",
      "/opt/anaconda3/lib/python3.12/site-packages/IPython/core/pylabtools.py:170: UserWarning: Glyph 50668 (\\N{HANGUL SYLLABLE YEO}) missing from current font.\n",
      "  fig.canvas.print_figure(bytes_io, **kw)\n",
      "/opt/anaconda3/lib/python3.12/site-packages/IPython/core/pylabtools.py:170: UserWarning: Glyph 48512 (\\N{HANGUL SYLLABLE BU}) missing from current font.\n",
      "  fig.canvas.print_figure(bytes_io, **kw)\n",
      "/opt/anaconda3/lib/python3.12/site-packages/IPython/core/pylabtools.py:170: UserWarning: Glyph 49457 (\\N{HANGUL SYLLABLE SEONG}) missing from current font.\n",
      "  fig.canvas.print_figure(bytes_io, **kw)\n",
      "/opt/anaconda3/lib/python3.12/site-packages/IPython/core/pylabtools.py:170: UserWarning: Glyph 48520 (\\N{HANGUL SYLLABLE BUL}) missing from current font.\n",
      "  fig.canvas.print_figure(bytes_io, **kw)\n",
      "/opt/anaconda3/lib/python3.12/site-packages/IPython/core/pylabtools.py:170: UserWarning: Glyph 51076 (\\N{HANGUL SYLLABLE IM}) missing from current font.\n",
      "  fig.canvas.print_figure(bytes_io, **kw)\n",
      "/opt/anaconda3/lib/python3.12/site-packages/IPython/core/pylabtools.py:170: UserWarning: Glyph 44060 (\\N{HANGUL SYLLABLE GAE}) missing from current font.\n",
      "  fig.canvas.print_figure(bytes_io, **kw)\n",
      "/opt/anaconda3/lib/python3.12/site-packages/IPython/core/pylabtools.py:170: UserWarning: Glyph 50896 (\\N{HANGUL SYLLABLE WEON}) missing from current font.\n",
      "  fig.canvas.print_figure(bytes_io, **kw)\n",
      "/opt/anaconda3/lib/python3.12/site-packages/IPython/core/pylabtools.py:170: UserWarning: Glyph 51064 (\\N{HANGUL SYLLABLE IN}) missing from current font.\n",
      "  fig.canvas.print_figure(bytes_io, **kw)\n",
      "/opt/anaconda3/lib/python3.12/site-packages/IPython/core/pylabtools.py:170: UserWarning: Glyph 45224 (\\N{HANGUL SYLLABLE NAM}) missing from current font.\n",
      "  fig.canvas.print_figure(bytes_io, **kw)\n",
      "/opt/anaconda3/lib/python3.12/site-packages/IPython/core/pylabtools.py:170: UserWarning: Glyph 50836 (\\N{HANGUL SYLLABLE YO}) missing from current font.\n",
      "  fig.canvas.print_figure(bytes_io, **kw)\n",
      "/opt/anaconda3/lib/python3.12/site-packages/IPython/core/pylabtools.py:170: UserWarning: Glyph 49888 (\\N{HANGUL SYLLABLE SIN}) missing from current font.\n",
      "  fig.canvas.print_figure(bytes_io, **kw)\n",
      "/opt/anaconda3/lib/python3.12/site-packages/IPython/core/pylabtools.py:170: UserWarning: Glyph 46020 (\\N{HANGUL SYLLABLE DO}) missing from current font.\n",
      "  fig.canvas.print_figure(bytes_io, **kw)\n",
      "/opt/anaconda3/lib/python3.12/site-packages/IPython/core/pylabtools.py:170: UserWarning: Glyph 46608 (\\N{HANGUL SYLLABLE DDO}) missing from current font.\n",
      "  fig.canvas.print_figure(bytes_io, **kw)\n",
      "/opt/anaconda3/lib/python3.12/site-packages/IPython/core/pylabtools.py:170: UserWarning: Glyph 45716 (\\N{HANGUL SYLLABLE NEUN}) missing from current font.\n",
      "  fig.canvas.print_figure(bytes_io, **kw)\n",
      "/opt/anaconda3/lib/python3.12/site-packages/IPython/core/pylabtools.py:170: UserWarning: Glyph 47560 (\\N{HANGUL SYLLABLE MA}) missing from current font.\n",
      "  fig.canvas.print_figure(bytes_io, **kw)\n",
      "/opt/anaconda3/lib/python3.12/site-packages/IPython/core/pylabtools.py:170: UserWarning: Glyph 51648 (\\N{HANGUL SYLLABLE JI}) missing from current font.\n",
      "  fig.canvas.print_figure(bytes_io, **kw)\n",
      "/opt/anaconda3/lib/python3.12/site-packages/IPython/core/pylabtools.py:170: UserWarning: Glyph 47561 (\\N{HANGUL SYLLABLE MAG}) missing from current font.\n",
      "  fig.canvas.print_figure(bytes_io, **kw)\n",
      "/opt/anaconda3/lib/python3.12/site-packages/IPython/core/pylabtools.py:170: UserWarning: Glyph 44221 (\\N{HANGUL SYLLABLE GYEONG}) missing from current font.\n",
      "  fig.canvas.print_figure(bytes_io, **kw)\n",
      "/opt/anaconda3/lib/python3.12/site-packages/IPython/core/pylabtools.py:170: UserWarning: Glyph 44284 (\\N{HANGUL SYLLABLE GWA}) missing from current font.\n",
      "  fig.canvas.print_figure(bytes_io, **kw)\n",
      "/opt/anaconda3/lib/python3.12/site-packages/IPython/core/pylabtools.py:170: UserWarning: Glyph 50672 (\\N{HANGUL SYLLABLE YEON}) missing from current font.\n",
      "  fig.canvas.print_figure(bytes_io, **kw)\n",
      "/opt/anaconda3/lib/python3.12/site-packages/IPython/core/pylabtools.py:170: UserWarning: Glyph 50976 (\\N{HANGUL SYLLABLE YU}) missing from current font.\n",
      "  fig.canvas.print_figure(bytes_io, **kw)\n",
      "/opt/anaconda3/lib/python3.12/site-packages/IPython/core/pylabtools.py:170: UserWarning: Glyph 54805 (\\N{HANGUL SYLLABLE HYEONG}) missing from current font.\n",
      "  fig.canvas.print_figure(bytes_io, **kw)\n",
      "/opt/anaconda3/lib/python3.12/site-packages/IPython/core/pylabtools.py:170: UserWarning: Glyph 53945 (\\N{HANGUL SYLLABLE TEUG}) missing from current font.\n",
      "  fig.canvas.print_figure(bytes_io, **kw)\n",
      "/opt/anaconda3/lib/python3.12/site-packages/IPython/core/pylabtools.py:170: UserWarning: Glyph 45212 (\\N{HANGUL SYLLABLE NAN}) missing from current font.\n",
      "  fig.canvas.print_figure(bytes_io, **kw)\n",
      "/opt/anaconda3/lib/python3.12/site-packages/IPython/core/pylabtools.py:170: UserWarning: Glyph 46976 (\\N{HANGUL SYLLABLE RAN}) missing from current font.\n",
      "  fig.canvas.print_figure(bytes_io, **kw)\n",
      "/opt/anaconda3/lib/python3.12/site-packages/IPython/core/pylabtools.py:170: UserWarning: Glyph 51109 (\\N{HANGUL SYLLABLE JANG}) missing from current font.\n",
      "  fig.canvas.print_figure(bytes_io, **kw)\n",
      "/opt/anaconda3/lib/python3.12/site-packages/IPython/core/pylabtools.py:170: UserWarning: Glyph 50528 (\\N{HANGUL SYLLABLE AE}) missing from current font.\n",
      "  fig.canvas.print_figure(bytes_io, **kw)\n",
      "/opt/anaconda3/lib/python3.12/site-packages/IPython/core/pylabtools.py:170: UserWarning: Glyph 52636 (\\N{HANGUL SYLLABLE CUL}) missing from current font.\n",
      "  fig.canvas.print_figure(bytes_io, **kw)\n",
      "/opt/anaconda3/lib/python3.12/site-packages/IPython/core/pylabtools.py:170: UserWarning: Glyph 52376 (\\N{HANGUL SYLLABLE CEO}) missing from current font.\n",
      "  fig.canvas.print_figure(bytes_io, **kw)\n",
      "/opt/anaconda3/lib/python3.12/site-packages/IPython/core/pylabtools.py:170: UserWarning: Glyph 49328 (\\N{HANGUL SYLLABLE SAN}) missing from current font.\n",
      "  fig.canvas.print_figure(bytes_io, **kw)\n",
      "/opt/anaconda3/lib/python3.12/site-packages/IPython/core/pylabtools.py:170: UserWarning: Glyph 44537 (\\N{HANGUL SYLLABLE GEUG}) missing from current font.\n",
      "  fig.canvas.print_figure(bytes_io, **kw)\n",
      "/opt/anaconda3/lib/python3.12/site-packages/IPython/core/pylabtools.py:170: UserWarning: Glyph 49440 (\\N{HANGUL SYLLABLE SEON}) missing from current font.\n",
      "  fig.canvas.print_figure(bytes_io, **kw)\n",
      "/opt/anaconda3/lib/python3.12/site-packages/IPython/core/pylabtools.py:170: UserWarning: Glyph 49324 (\\N{HANGUL SYLLABLE SA}) missing from current font.\n",
      "  fig.canvas.print_figure(bytes_io, **kw)\n",
      "/opt/anaconda3/lib/python3.12/site-packages/IPython/core/pylabtools.py:170: UserWarning: Glyph 50857 (\\N{HANGUL SYLLABLE YONG}) missing from current font.\n",
      "  fig.canvas.print_figure(bytes_io, **kw)\n",
      "/opt/anaconda3/lib/python3.12/site-packages/IPython/core/pylabtools.py:170: UserWarning: Glyph 46041 (\\N{HANGUL SYLLABLE DONG}) missing from current font.\n",
      "  fig.canvas.print_figure(bytes_io, **kw)\n",
      "/opt/anaconda3/lib/python3.12/site-packages/IPython/core/pylabtools.py:170: UserWarning: Glyph 44208 (\\N{HANGUL SYLLABLE GYEOL}) missing from current font.\n",
      "  fig.canvas.print_figure(bytes_io, **kw)\n",
      "/opt/anaconda3/lib/python3.12/site-packages/IPython/core/pylabtools.py:170: UserWarning: Glyph 51452 (\\N{HANGUL SYLLABLE JU}) missing from current font.\n",
      "  fig.canvas.print_figure(bytes_io, **kw)\n",
      "/opt/anaconda3/lib/python3.12/site-packages/IPython/core/pylabtools.py:170: UserWarning: Glyph 52265 (\\N{HANGUL SYLLABLE CAG}) missing from current font.\n",
      "  fig.canvas.print_figure(bytes_io, **kw)\n",
      "/opt/anaconda3/lib/python3.12/site-packages/IPython/core/pylabtools.py:170: UserWarning: Glyph 49345 (\\N{HANGUL SYLLABLE SANG}) missing from current font.\n",
      "  fig.canvas.print_figure(bytes_io, **kw)\n",
      "/opt/anaconda3/lib/python3.12/site-packages/IPython/core/pylabtools.py:170: UserWarning: Glyph 51204 (\\N{HANGUL SYLLABLE JEON}) missing from current font.\n",
      "  fig.canvas.print_figure(bytes_io, **kw)\n",
      "/opt/anaconda3/lib/python3.12/site-packages/IPython/core/pylabtools.py:170: UserWarning: Glyph 51652 (\\N{HANGUL SYLLABLE JIN}) missing from current font.\n",
      "  fig.canvas.print_figure(bytes_io, **kw)\n",
      "/opt/anaconda3/lib/python3.12/site-packages/IPython/core/pylabtools.py:170: UserWarning: Glyph 44160 (\\N{HANGUL SYLLABLE GEOM}) missing from current font.\n",
      "  fig.canvas.print_figure(bytes_io, **kw)\n",
      "/opt/anaconda3/lib/python3.12/site-packages/IPython/core/pylabtools.py:170: UserWarning: Glyph 45824 (\\N{HANGUL SYLLABLE DAE}) missing from current font.\n",
      "  fig.canvas.print_figure(bytes_io, **kw)\n",
      "/opt/anaconda3/lib/python3.12/site-packages/IPython/core/pylabtools.py:170: UserWarning: Glyph 47784 (\\N{HANGUL SYLLABLE MO}) missing from current font.\n",
      "  fig.canvas.print_figure(bytes_io, **kw)\n"
     ]
    },
    {
     "data": {
      "image/png": "[encoded data removed]",
      "text/plain": [
       "<Figure size 1000x600 with 1 Axes>"
      ]
     },
     "metadata": {},
     "output_type": "display_data"
    }
   ],
   "source": [
    "import pandas as pd\n",
    "import numpy as np\n",
    "from sklearn.ensemble import RandomForestClassifier\n",
    "from sklearn.model_selection import train_test_split, cross_val_score\n",
    "from sklearn.metrics import accuracy_score, f1_score\n",
    "import matplotlib.pyplot as plt\n",
    "\n",
    "# 📌 데이터 로드\n",
    "train_path = \"/Users/yudayeon/Desktop/캡스톤_결과/open/train_cleaned.csv\"\n",
    "train_df = pd.read_csv(train_path, encoding=\"utf-8\")\n",
    "\n",
    "# 📌 결과 변수 지정 (결과 변수명을 실제 데이터에 맞게 변경)\n",
    "target_variable = \"임신 성공 여부\"  # 예: '출산 성공 여부', '임신 여부' 등\n",
    "\n",
    "# 📌 사용할 변수 리스트 (유의미한 변수만 사용)\n",
    "significant_features = [\n",
    "    \"단일 배아 이식 여부\", \"신선 배아 사용 여부\", \"기증 배아 사용 여부\", \"시술 유형\", \"대리모 여부\",\n",
    "    \"불임 원인 - 남성 요인\", \"배란 자극 여부\", \"착상 전 유전 진단 사용 여부\", \"불임 원인 - 배란 장애\",\n",
    "    \"여성_불임_개수\", \"정자 출처\", \"정자 기증자 나이\", \"IVF 출산 횟수\", \"총 출산 횟수\",\n",
    "    \"시술 시기 코드\", \"IVF 임신 횟수\", \"PGD 시술 여부\", \"DI 출산 횟수\",\n",
    "    \"동결 배아 사용 여부\", \"DI 임신 횟수\", \"PGS 시술 여부\", \"남성 주 불임 원인\",\n",
    "    \"부부 부 불임 원인\", \"여성 주 불임 원인\", \"남성 부 불임 원인\", \"여성 부 불임 원인\",\n",
    "    \"부부 주 불임 원인\", \"DI 시술 횟수\", \"임신 시도 또는 마지막 임신 경과 연수\",\n",
    "    \"착상 전 유전 검사 사용 여부\", \"시술_유형_개수\", \"특정 시술 유형\", \"난자 기증자 나이\",\n",
    "    \"배란 유도 유형\", \"난자 출처\", \"클리닉 내 총 시술 횟수\", \"IVF 시술 횟수\", \"총 시술 횟수\"\n",
    "]\n",
    "\n",
    "# 📌 유의미한 변수만 포함한 데이터셋 생성\n",
    "X = train_df[significant_features]\n",
    "y = train_df[target_variable]\n",
    "\n",
    "# 📌 학습 데이터 분할 (Train 80% / Test 20%)\n",
    "X_train, X_test, y_train, y_test = train_test_split(X, y, test_size=0.2, random_state=42, stratify=y)\n",
    "\n",
    "# 📌 랜덤 포레스트 모델 학습\n",
    "rf_model = RandomForestClassifier(n_estimators=100, random_state=42)\n",
    "rf_model.fit(X_train, y_train)\n",
    "\n",
    "# 📌 예측 및 평가\n",
    "y_pred = rf_model.predict(X_test)\n",
    "accuracy = accuracy_score(y_test, y_pred)\n",
    "f1 = f1_score(y_test, y_pred, average=\"weighted\")\n",
    "\n",
    "print(f\"✅ 랜덤 포레스트 모델 성능:\")\n",
    "print(f\"🎯 정확도(Accuracy): {accuracy:.4f}\")\n",
    "print(f\"🎯 F1-score: {f1:.4f}\")\n",
    "\n",
    "# 📌 교차 검증 (5-Fold CV)\n",
    "cv_scores = cross_val_score(rf_model, X, y, cv=5, scoring='accuracy')\n",
    "print(f\"📌 5-Fold CV 평균 정확도: {np.mean(cv_scores):.4f}\")\n",
    "\n",
    "# 📌 변수 중요도 시각화\n",
    "feature_importances = pd.DataFrame({'Feature': X_train.columns, 'Importance': rf_model.feature_importances_})\n",
    "feature_importances = feature_importances.sort_values(by=\"Importance\", ascending=False)\n",
    "\n",
    "plt.figure(figsize=(10, 6))\n",
    "plt.barh(feature_importances[\"Feature\"], feature_importances[\"Importance\"], color=\"skyblue\")\n",
    "plt.xlabel(\"Feature Importance\")\n",
    "plt.ylabel(\"Features\")\n",
    "plt.title(\"Feature Importance in Random Forest Model\")\n",
    "plt.gca().invert_yaxis()\n",
    "plt.show()"
   ]
  },
  {
   "cell_type": "code",
   "execution_count": 24,
   "id": "b7825e95-20c6-4e84-bfb1-503521091b8c",
   "metadata": {},
   "outputs": [
    {
     "data": {
      "image/png": "[encoded data removed]",
      "text/plain": [
       "<Figure size 600x500 with 2 Axes>"
      ]
     },
     "metadata": {},
     "output_type": "display_data"
    }
   ],
   "source": [
    "import matplotlib.pyplot as plt\n",
    "import seaborn as sns\n",
    "from sklearn.metrics import confusion_matrix, classification_report\n",
    "\n",
    "# 📌 예측값 생성 (이전 모델 학습 후 y_pred 사용)\n",
    "y_pred = rf_model.predict(X_test)\n",
    "\n",
    "# 📌 Confusion Matrix 계산\n",
    "conf_matrix = confusion_matrix(y_test, y_pred)\n",
    "\n",
    "# 📌 Confusion Matrix 시각화\n",
    "plt.figure(figsize=(6, 5))\n",
    "sns.heatmap(conf_matrix, annot=True, fmt=\"d\", cmap=\"Blues\", xticklabels=[\"Negative\", \"Positive\"], yticklabels=[\"Negative\", \"Positive\"])\n",
    "plt.xlabel(\"Predicted Label\")\n",
    "plt.ylabel(\"True Label\")\n",
    "plt.title(\"Confusion Matrix\")\n",
    "plt.show()"
   ]
  },
  {
   "cell_type": "code",
   "execution_count": null,
   "id": "3fdf2e9c-0e01-459c-971e-0eba1fe7a918",
   "metadata": {},
   "outputs": [],
   "source": []
  }
 ],
 "metadata": {
  "kernelspec": {
   "display_name": "Python 3 (ipykernel)",
   "language": "python",
   "name": "python3"
  },
  "language_info": {
   "codemirror_mode": {
    "name": "ipython",
    "version": 3
   },
   "file_extension": ".py",
   "mimetype": "text/x-python",
   "name": "python",
   "nbconvert_exporter": "python",
   "pygments_lexer": "ipython3",
   "version": "3.12.2"
  }
 },
 "nbformat": 4,
 "nbformat_minor": 5
}
